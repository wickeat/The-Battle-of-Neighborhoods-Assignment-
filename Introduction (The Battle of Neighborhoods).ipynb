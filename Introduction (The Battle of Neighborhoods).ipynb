{
 "cells": [
  {
   "cell_type": "markdown",
   "metadata": {},
   "source": [
    "# Introduction / Business Problem"
   ]
  },
  {
   "cell_type": "markdown",
   "metadata": {},
   "source": [
    "The city of Toronto is the **largest** city in Canada by population. This capital city of the province of Ontario is also one of Canada's leading tourism destinations. With its booming tourism industry, the city of Toronto receives a large volume of tourists and visitors every year. In the year 2017 alone, the Toronto area has recorded a whopping total of *43.7 million* tourists. \n",
    "\n",
    "This influx of visitors has propelled the burgeoning demand on hotels and hostels in the region. With the growth in travel accommodations, **laundry services** would also be increasingly in demand. Investors interested in a business with *low investment and high return* can look to the business of laundromats in a city with a high tourist volume, such as Toronto. Tourists would often favour a cheaper alternative than hotel laundry services, which explains the mushrooming of laundromats in tourist-rich cities. \n",
    "\n",
    "Therefore, the problem statement is: \n",
    "\n",
    "**What is the best/most optimal place to set up a laundromat in the city of Toronto that is in close proximity to travel accommodations and preferrably at a distance from other competing laundromats?**"
   ]
  },
  {
   "cell_type": "code",
   "execution_count": null,
   "metadata": {},
   "outputs": [],
   "source": []
  }
 ],
 "metadata": {
  "kernelspec": {
   "display_name": "Python 3",
   "language": "python",
   "name": "python3"
  },
  "language_info": {
   "codemirror_mode": {
    "name": "ipython",
    "version": 3
   },
   "file_extension": ".py",
   "mimetype": "text/x-python",
   "name": "python",
   "nbconvert_exporter": "python",
   "pygments_lexer": "ipython3",
   "version": "3.6.5"
  }
 },
 "nbformat": 4,
 "nbformat_minor": 2
}
