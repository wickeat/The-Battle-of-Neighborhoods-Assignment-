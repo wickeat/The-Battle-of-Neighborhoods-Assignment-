{
 "cells": [
  {
   "cell_type": "markdown",
   "metadata": {},
   "source": [
    "# **Capstone Project - Report**"
   ]
  },
  {
   "cell_type": "markdown",
   "metadata": {},
   "source": [
    "# Introduction / Business Problem"
   ]
  },
  {
   "cell_type": "markdown",
   "metadata": {},
   "source": [
    "The city of Toronto is the **largest** city in Canada by population. This capital city of the province of Ontario is also one of Canada's leading tourism destinations. With its booming tourism industry, the city of Toronto receives a large volume of tourists and visitors every year. In the year 2017 alone, the Toronto area has recorded a whopping total of *43.7 million* tourists. \n",
    "\n",
    "This influx of visitors has propelled the burgeoning demand on hotels and hostels in the region. With the growth in travel accommodations, **laundry services** would also be increasingly in demand. Investors interested in a business with *low investment and high return* can look to the business of laundromats in a city with a high tourist volume, such as Toronto. Tourists would often favour a cheaper alternative than hotel laundry services, which explains the mushrooming of laundromats in tourist-rich cities. \n",
    "\n",
    "Therefore, the problem statement is: \n",
    "\n",
    "**What is the best/most optimal place to set up a laundromat in the city of Toronto that is in close proximity to travel accommodations and preferrably at a distance from other competing laundromats?**"
   ]
  },
  {
   "cell_type": "markdown",
   "metadata": {},
   "source": [
    "# Data"
   ]
  },
  {
   "cell_type": "markdown",
   "metadata": {},
   "source": [
    "The data necessary to answer the problem statement includes the **locations and the types of venues** around the Toronto city area. \n",
    "\n",
    "First, the **locations of all existing laundromats or laundry services in the Toronto city region** will be extracted to survey the competition. Ideally, the new laundromat would be set up at a certain distance away from other existing laundromats. \n",
    "Secondly, the **locations of travel accommodations** such as hotels, hostels and motels in the region will be obtained. This is to estimate the amount of visitors that would frequent the laundromat, based on the assumption that the clientele of the laundromat would be mainly made up of travellers. \n",
    "\n",
    "A suitable location for the new laundromat would be at the centre of a cluster of hotels and hostels so as to maximise the business potential. A *clustering algorithm* would be performed on the locations of laundromats and hotels separately to find the concentration of both types of the establishments. \n",
    "\n",
    "Finally, the ideal location for setting up a new laundromat can be inferred based on the clustering result. \n"
   ]
  },
  {
   "cell_type": "markdown",
   "metadata": {},
   "source": [
    "# Methodology"
   ]
  },
  {
   "cell_type": "markdown",
   "metadata": {},
   "source": [
    "In order to search for locations of the existing laundromats and hotels in the city of Toronto, it is necessary to find the coordinates of the neighborhoods in Toronto for querying the Foursquare API. Hence, the following steps were taken. \n",
    "1. The Wikipedia page (https://en.wikipedia.org/wiki/List_of_postal_codes_of_Canada:_M_) was scraped using the BeautifulSoup library to build a pandas dataframe listing the buroughs and neighborhoods in Toronto. The dataframe was cleaned and processed appropriately. \n",
    "2. Next, the geographical coordinates of each neighborhood was obtained from the csv downloaded from http://cocl.us/Geospatial_data. The \n",
    "3. The postal codes for each of the neighborhoods were matched to the information from the csv file and the original pandas dataframe was updated to list the corresponding geographical coordinate for each neighborhood. \n",
    "4. To limit the range of the data, only the Central Toronto borough was investigated as this is the center of Toronto where the tourists are centered. The neighborhoods from the borough of Central Toronto were extracted and listed in a dataframe. \n",
    "5. The Foursquare API was then used to query each of the neighborhood for the keywords {laundromats, laundry} and {hotel, hostel, motel}.  The resulting locations for each venue were tabulated and stored in a new dataframe and visualised using Folium. \n",
    "6. In order to see the aggregation of the laundromats and hotels, hierarchical clustering was used to cluster the laundromats and hotels separately. Hierarchical clustering was used because there was no need for a cluster number to be selected and can be purely based on the distance between the venues. The resulting clusters were plotted on a Folium map. \n",
    "7. A better visualisation was performed by obtaining the cluster centers for each group of laundromat and hotel. The cluster centers were plotted on a Folium map, with the circle marker weighted corresponding to the number of venues in the specific cluster. "
   ]
  },
  {
   "cell_type": "markdown",
   "metadata": {},
   "source": [
    "# Results"
   ]
  },
  {
   "cell_type": "markdown",
   "metadata": {},
   "source": [
    "The results are listed as follows. \n",
    "1. The neighborhoods falling under Central Toronto amount to 9 neighborhoods in total. The laundromats and hotels around these neighborhoods were explored. \n",
    "2. A total of 106 laundromats and 87 hotels were found after performing the query on Foursquare API around these neighborhoods. \n",
    "3. Hierarchical clustering on the laundromats and hotels have produced a total of 5 clusters of laundromats and 4 clusters of hotels. "
   ]
  },
  {
   "cell_type": "markdown",
   "metadata": {},
   "source": [
    "# Discussions"
   ]
  },
  {
   "cell_type": "markdown",
   "metadata": {},
   "source": [
    "1. It can be observed that the laundromat and hotel clusters are generally overlapping or close to each other. This observation makes sense as the laundromats depend on the tourist population for supporting its business. \n",
    "2. A large concentration of laundromats and hotels alike can be found surrounding The Annex neighborhood. This can be seen in the large clusters shown in the Folium map. \n",
    "3. Conversely, there is a relatively smaller hotel concentration at the Forest Hill neighborhood with only a very sparse amount of laundromats serving it. The closest cluster of laundromats is located further away in the neighborhood of Humewood. \n",
    "4. There is a small cluster of laundromats in the neighborhood of Caribou park which does not have any neighboring hotel clusters. Upon closer inspection, this is probably due to the fact that there is are boarding schools and hospitals in that region, which serve as the laundromats' clientele. "
   ]
  },
  {
   "cell_type": "markdown",
   "metadata": {},
   "source": [
    "# Conclusion"
   ]
  },
  {
   "cell_type": "markdown",
   "metadata": {},
   "source": [
    "To answer the initial question of 'What is the best/most optimal place to set up a laundromat in the city of Toronto that is in close proximity to travel accommodations and preferrably at a distance from other competing laundromats?', the most suitable place for setting up a new laundromat is in the neighborhood of Forest Hill in Central Toronto. This is due to the lack of laundromats in its close proximity while still having a decent amount of hotels. "
   ]
  }
 ],
 "metadata": {
  "kernelspec": {
   "display_name": "Python 3",
   "language": "python",
   "name": "python3"
  },
  "language_info": {
   "codemirror_mode": {
    "name": "ipython",
    "version": 3
   },
   "file_extension": ".py",
   "mimetype": "text/x-python",
   "name": "python",
   "nbconvert_exporter": "python",
   "pygments_lexer": "ipython3",
   "version": "3.6.5"
  }
 },
 "nbformat": 4,
 "nbformat_minor": 2
}
